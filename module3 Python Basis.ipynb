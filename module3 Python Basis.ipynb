{
  "nbformat": 4,
  "nbformat_minor": 0,
  "metadata": {
    "colab": {
      "provenance": []
    },
    "kernelspec": {
      "name": "python3",
      "display_name": "Python 3"
    },
    "language_info": {
      "name": "python"
    }
  },
  "cells": [
    {
      "cell_type": "code",
      "execution_count": null,
      "metadata": {
        "id": "9ETg_3c_gu2c"
      },
      "outputs": [],
      "source": []
    },
    {
      "cell_type": "markdown",
      "source": [
        "1. What is Python, and why is it popular?\n",
        "--> Python is Computer program use to write code for both simple and large projects. It was created by Guido Van Rossum in 1991.\n",
        "\n",
        "It is mainly poluplar for its readablity, simplicity, and versatility.\n",
        "More reasons for it's popularity are explained below:\n",
        "\n",
        "a) Simplicity and Readablity: Python uses simple english for syntax, and therefore it is easy to understand even for beginners. Same reason give it flexiblity to the developers to focus on problem rather than on complex code structure.\n",
        "\n",
        "b) Rich eccosystem of libraries: It has a lot of third party libraries that  extend it's functionality. eg Pandas( for data cleaning etc), Numpy (for data reading), Matplotlib (data visualization) and many more.\n",
        "\n",
        "c) Community Support: It has a massive global community of Data scientist, data engineers, developers, etc, who all have created a huge wealth of resources in the form of tutorials, forums etc that help to solve problem more efficiently and upskill onself.\n",
        "\n",
        "d) Versatility: Python is not only useful in data analytical dimention, but also it  is used for development in machine learning, automation, artificial intellegent. i.e can solve many small and big probles in world. This is the most versatile programig language so far.\n",
        "\n",
        "e) Free and open source: It is free and thus available to all. So, anyone can contirbute to it and also, therefore acdepted by academics and industries as well.\n",
        "\n",
        "f) Integration Compatiblity: it is compatible with other computer languages, like C++ and Java, and therefore can be used to develop complex systems  "
      ],
      "metadata": {
        "id": "rU19z9Lpi6Ei"
      }
    },
    {
      "cell_type": "markdown",
      "source": [
        " 2. What is an interpreter in Python?\n",
        " --> It ia program in Python, that first reads and then executes the code line by line without any sperate compilation step.\n",
        "\n",
        " It translate the complex code into machine compatable instruction, during the run of a program.\n",
        "\n",
        " eg: print(\"Hello\")\n",
        "\n",
        " Interpreter first read this code, then convert it to machine readable form and then excecute that converted code.\n",
        "\n",
        " These all steps in end results in printing the output."
      ],
      "metadata": {
        "id": "x6gYz65Oi5TV"
      }
    },
    {
      "cell_type": "markdown",
      "source": [
        "3. What are pre-defined keywords in Python?\n",
        "--> These are the reserved words in python language, that have special meaning, purpose and therefore cannot be used as any of the identifiers like varibale, functions etc, elese it will confuse the python and generates error while coding.\n",
        "\n",
        "Thus, helpful for structural and controlled flow of the code.\n",
        "\n",
        "eg. True, False, len, while, for, return etc"
      ],
      "metadata": {
        "id": "cl6g_mh5jI0w"
      }
    },
    {
      "cell_type": "markdown",
      "source": [
        "4. Can keywords be used as variable names?\n",
        "\n",
        "-->  No, this cannot be done, as it will give a syntax error. Since keywords are reserved words in programming language,and are part of syntax, redefining them will cause an error."
      ],
      "metadata": {
        "id": "CvV5JS4Dj63z"
      }
    },
    {
      "cell_type": "markdown",
      "source": [
        "5. What is mutability in Python?\n",
        "--> Mutablilty literally means change.\n",
        "In python it refers to any change in elements of the object after its creation.\n",
        "Based on Mutablity characteristic, there are two types of object in python.\n",
        "\n",
        "   1. That cannot be changed once created are known as immutable objects: eg are string, tuble, integer/floats.\n",
        "\n",
        "   if want to change them, need to create new one.\n",
        "\n",
        "   eg. my_string=\"hi\"\n",
        "\n",
        "       my_string[0]=\"H\" # will throw error\n",
        "\n",
        "   2. Those can be accesed and mutated are known as mutables:eg are list, sets, dictionaries. we can do addtion, removal or chnage in values of elements of these objects.\n",
        "\n",
        "   eg.\n",
        "\n",
        "      my_list=[1,2,3]\n",
        "\n",
        "      my_list[0]=10\n",
        "\n",
        "      print(my_list)\n",
        "      \n",
        "      [10,2,3]\n"
      ],
      "metadata": {
        "id": "PTgeRDOQj_ON"
      }
    },
    {
      "cell_type": "markdown",
      "source": [
        "6. Why are lists mutable, but tuples are immutable?\n",
        "--> List are mutable becasue they are designe to use when data is required to modify or grow.\n",
        "\n",
        "eg. a to do list, shopping list, employee name list.\n",
        "\n",
        "They are stored in flexible or dynamic memory alocation.\n",
        "\n",
        "tuples are immutable becasue they are designed to store fixed, efficient, and secure data.\n",
        "\n",
        "eg. PAN numbers, Aadhar card numbers, keys of the dictionaries.\n",
        "\n",
        "They are stored in fixed memory block."
      ],
      "metadata": {
        "id": "q58MZEK0kB5i"
      }
    },
    {
      "cell_type": "markdown",
      "source": [
        "7. What is the difference between “==” and “is” operators in Python?\n",
        "\n",
        "--> \"==\" is Equaliy Operator\n",
        "\n",
        "it compares value of two object if they are same or not.\n",
        "\n",
        "eg.\n",
        "\n",
        "    a=1,2,3\n",
        "    b=1,2,3\n",
        "    print(a==b)\n",
        "\n",
        "    True  # both variables have same values\n",
        "\n",
        "  \"is\" is a Identity Operator\n",
        "\n",
        "  it checks identity(memory location) of objects, verifing if they are the exactly same objects, having same memroy block.\n",
        "  \n",
        "    eg. a=1,2,3\n",
        "        b=1,2,3\n",
        "        print(a is b)\n",
        "        False # a and b are two different objects, stored at different memory location, just the values are same."
      ],
      "metadata": {
        "id": "4AwW22rgkbrI"
      }
    },
    {
      "cell_type": "markdown",
      "source": [
        "8. What are logical operators in Python?\n",
        "--> These are operators that performs logical operations and returns output as boolean values (True or False).\n",
        "\n",
        "Three logical operators are there in Python:\n",
        "  1. AND\n",
        "\n",
        "  return True, only when both the given conditions are True\n",
        "\n",
        "  eg. a=5\n",
        "\n",
        "      b=10\n",
        "\n",
        "      print(a>1,b>2) # True\n",
        "\n",
        "      print(a>10,b>2) # False, as one condition is not follwoing, both must be follwing\n",
        "\n",
        "  2. OR\n",
        "\n",
        "  return True, when either one of the given conditions are True\n",
        "\n",
        "  eg. a=5\n",
        "\n",
        "      b=10\n",
        "\n",
        "      print(a>1,b>2) # True\n",
        "\n",
        "      print(a>10,b>2) # True\n",
        "\n",
        "  3.NOT\n",
        "\n",
        "  reverse the boolean value/resut of the given condition\n",
        "\n",
        "  eg. a=5\n",
        "\n",
        "      print(not(a>1)) # Which is not True is Flase\n",
        "      \n",
        "      print(not(a>10)) # Which is not False is True"
      ],
      "metadata": {
        "id": "BfCIRGGekeTC"
      }
    },
    {
      "cell_type": "markdown",
      "source": [
        "9. What is type casting in Python?\n",
        "\n",
        "--> It is process of converting one data type into another.\n",
        "It is required, because while working with different data structures, it ensure the correct computation/opertions are executed.\n",
        "There are two types of Typecasting in Python:\n",
        "\n",
        "  1. Implicit Type Casting\n",
        "\n",
        "  Python autometically converts the data type without the outer instructions from the user.\n",
        "\n",
        "  eg.\n",
        "  a=1\n",
        "\n",
        "  b=2.5\n",
        "\n",
        "  c=a+b\n",
        "\n",
        "  print(c)\n",
        "\n",
        "   3.5 #here python autometically conver int 1 to float 1.0 for the computation purpose and give a result which is float.\n",
        "\n",
        "  2. Explicit Typecasting\n",
        "\n",
        "  This the conversion of data type when commanded by user externally using type conversion fucntions like int(), float() etc.\n",
        "\n",
        "  eg.\n",
        "\n",
        "  int=3\n",
        "\n",
        "  print(float(3))\n",
        "\n",
        "   3.0"
      ],
      "metadata": {
        "id": "tG16FrgYkgpJ"
      }
    },
    {
      "cell_type": "markdown",
      "source": [
        "10. What is the difference between implicit and explicit type casting?\n",
        "\n",
        "--> Implicit type casting (Type Coercion):\n",
        "\n",
        " The Python interpreter automatically converts one data type to another, withour user input.\n",
        "\n",
        "Executed for compatible data types automatically, without data loss.\n",
        "\n",
        "eg. Convertion of integer to a float automatically during arithmetic operations.\n",
        "\n",
        "Explicit Type Casting (Type Conversion):\n",
        "\n",
        "Executed when the user manually converts one data type into another using built-in functions like int(), float(),etc, intentionally.\n",
        "\n",
        "eg. Converting a string to an integer using int(string)"
      ],
      "metadata": {
        "id": "pO7tXgy_kiy7"
      }
    },
    {
      "cell_type": "markdown",
      "source": [
        "11. What is the purpose of conditional statements in Python?\n",
        "--> Purpose of conditional statements in Python is to allow the program to make a decison based on certain conditions.\n",
        "\n",
        "These programs have different block of codes for specific condition.\n",
        "\n",
        "Thus, making the program dynamic and suitable for different inputs rather than folllwing a fixed set of actions.\n",
        "\n",
        "eg. If conditions, if-else conditions, if-elif-else condition"
      ],
      "metadata": {
        "id": "NPA61pYjklbx"
      }
    },
    {
      "cell_type": "markdown",
      "source": [
        "12. How does the elif statement work?\n",
        "\n",
        "--> It stands for \"else if\" and is used as part of conditional control flow and is used  to check multiple conditions in sequence after initial if condition.\n",
        "\n",
        "workig:\n",
        "\n",
        "if condition1\n",
        "  block of code  #executed if condition1 is True\n",
        "elif condition2\n",
        "  block of code # condition1 is False, condition2 True\n",
        "elif condition3\n",
        "  block of code  # condition1 and 2 are Fase, condition3 True\n",
        "else\n",
        "  block of code # executed when none of the condition is True"
      ],
      "metadata": {
        "id": "dyky9KwQkn6-"
      }
    },
    {
      "cell_type": "markdown",
      "source": [
        "13. What is the difference between for and while loops?\n",
        "\n",
        "--> for loop:\n",
        "\n",
        "Predictable Iteration: Used when exact number of iterations are known (eg. list, range).\n",
        "\n",
        "It automatically stops when the sequence or range is exhausted.\n",
        "\n",
        " for i in range:\n",
        "\n",
        "    block of code\n",
        "\n",
        "while loop:\n",
        "\n",
        " Unpredictable Iteration: Used when the number of iterations is not known in advance, and loop continues till while condition is True.\n",
        "\n",
        "Loop exists once while condition becomes False.\n",
        "\n",
        "while condition:\n",
        "\n",
        "    block of code\n",
        "\n"
      ],
      "metadata": {
        "id": "8mDtf8sRkqzE"
      }
    },
    {
      "cell_type": "markdown",
      "source": [
        "14. Describe a scenario where a while loop is more suitable than a for loop.\n",
        "\n",
        "--> Where number of iterations are not known, there while loop will work better than for loop, because it will run untill the condition is met, exists when while condition becomes False.\n",
        "\n",
        " for loop is iterated over a finite set of elements like a list, tuple etc.\n",
        " i.e best when number of iteration is known.\n",
        "\n",
        " eg.\n",
        " there is a program that takes password as input from user. Since, here number of attempts required by the user cannot be predicted, so while loop will be better. It needs to run till the condition of correct password met."
      ],
      "metadata": {
        "id": "dzkC3fF8ks0N"
      }
    },
    {
      "cell_type": "code",
      "source": [
        "# 1. Write a Python program to print \"Hello, World!\n",
        "s=\"Hello, World!\"\n",
        "print(s)"
      ],
      "metadata": {
        "id": "RpUfBxsJk23n",
        "colab": {
          "base_uri": "https://localhost:8080/"
        },
        "outputId": "859f1b46-9d48-44af-cdc7-2213fd227e3d"
      },
      "execution_count": null,
      "outputs": [
        {
          "output_type": "stream",
          "name": "stdout",
          "text": [
            "Hello, World!\n"
          ]
        }
      ]
    },
    {
      "cell_type": "code",
      "source": [
        "# 2. Write a Python program that displays your name and age.\n",
        "name=input(\"Enter your name:\")\n",
        "age=int(input(\"Enter your age:\"))\n",
        "print(\"Name:\",name)\n",
        "print(\"Age:\",age)"
      ],
      "metadata": {
        "id": "FY9XVhGTlv3Q",
        "colab": {
          "base_uri": "https://localhost:8080/"
        },
        "outputId": "004861f4-ee8a-4861-dba4-ebbe75354342"
      },
      "execution_count": null,
      "outputs": [
        {
          "output_type": "stream",
          "name": "stdout",
          "text": [
            "Enter your name:PWSkills\n",
            "Enter your age:10\n",
            "Name: PWSkills\n",
            "Age: 10\n"
          ]
        }
      ]
    },
    {
      "cell_type": "code",
      "source": [
        "# 3. Write code to print all the pre-defined keywords in Python using the keyword library.\n",
        "help(\"keywords\")"
      ],
      "metadata": {
        "id": "RoPT_9EglznN",
        "colab": {
          "base_uri": "https://localhost:8080/"
        },
        "outputId": "d6b5a86a-37e0-4ae1-b084-7ec68fc5c495"
      },
      "execution_count": null,
      "outputs": [
        {
          "output_type": "stream",
          "name": "stdout",
          "text": [
            "\n",
            "Here is a list of the Python keywords.  Enter any keyword to get more help.\n",
            "\n",
            "False               class               from                or\n",
            "None                continue            global              pass\n",
            "True                def                 if                  raise\n",
            "and                 del                 import              return\n",
            "as                  elif                in                  try\n",
            "assert              else                is                  while\n",
            "async               except              lambda              with\n",
            "await               finally             nonlocal            yield\n",
            "break               for                 not                 \n",
            "\n"
          ]
        }
      ]
    },
    {
      "cell_type": "code",
      "source": [
        "# 4. Write a program that checks if a given word is a Python keyword.\n",
        "import keyword\n",
        "keys= keyword.kwlist\n",
        "check_input=input(\"Enter a word:\")\n",
        "if check_input in keys:\n",
        "  print(\"It is a keyword\")\n",
        "else:\n",
        "  print(\"It is not a keyword\")\n"
      ],
      "metadata": {
        "id": "m2rl4z3Al9LR",
        "colab": {
          "base_uri": "https://localhost:8080/"
        },
        "outputId": "f3d4553f-9bfc-4116-9c84-0dfb7a08db1b"
      },
      "execution_count": null,
      "outputs": [
        {
          "output_type": "stream",
          "name": "stdout",
          "text": [
            "Enter a word:for\n",
            "It is a keyword\n"
          ]
        }
      ]
    },
    {
      "cell_type": "code",
      "source": [
        "# 5. Create a list and tuple in Python, and demonstrate how attempting to change an element works differently\n",
        "# for each.\n",
        "l=[1,2,3,4] #l is list\n",
        "print(l)\n",
        "l[0]=10     # value 1 at index zero is accessed and mutated successfully\n",
        "print(l)\n",
        "\n",
        "t=(5,6,7,8) #t is tuple\n",
        "print(t)\n",
        "t[0]=20     # element access and reassign a new value\n",
        "print(t)    # on executing giving error, that means it is immutable\n",
        "\n"
      ],
      "metadata": {
        "id": "XpF1UEommFju",
        "colab": {
          "base_uri": "https://localhost:8080/",
          "height": 263
        },
        "outputId": "38639864-f521-4106-85f2-4d4e5cd234ec"
      },
      "execution_count": null,
      "outputs": [
        {
          "output_type": "stream",
          "name": "stdout",
          "text": [
            "[1, 2, 3, 4]\n",
            "[10, 2, 3, 4]\n",
            "(5, 6, 7, 8)\n"
          ]
        },
        {
          "output_type": "error",
          "ename": "TypeError",
          "evalue": "'tuple' object does not support item assignment",
          "traceback": [
            "\u001b[0;31m---------------------------------------------------------------------------\u001b[0m",
            "\u001b[0;31mTypeError\u001b[0m                                 Traceback (most recent call last)",
            "\u001b[0;32m<ipython-input-5-b9d8f9172bc4>\u001b[0m in \u001b[0;36m<cell line: 0>\u001b[0;34m()\u001b[0m\n\u001b[1;32m      8\u001b[0m \u001b[0mt\u001b[0m\u001b[0;34m=\u001b[0m\u001b[0;34m(\u001b[0m\u001b[0;36m5\u001b[0m\u001b[0;34m,\u001b[0m\u001b[0;36m6\u001b[0m\u001b[0;34m,\u001b[0m\u001b[0;36m7\u001b[0m\u001b[0;34m,\u001b[0m\u001b[0;36m8\u001b[0m\u001b[0;34m)\u001b[0m \u001b[0;31m#t is tuple\u001b[0m\u001b[0;34m\u001b[0m\u001b[0;34m\u001b[0m\u001b[0m\n\u001b[1;32m      9\u001b[0m \u001b[0mprint\u001b[0m\u001b[0;34m(\u001b[0m\u001b[0mt\u001b[0m\u001b[0;34m)\u001b[0m\u001b[0;34m\u001b[0m\u001b[0;34m\u001b[0m\u001b[0m\n\u001b[0;32m---> 10\u001b[0;31m \u001b[0mt\u001b[0m\u001b[0;34m[\u001b[0m\u001b[0;36m0\u001b[0m\u001b[0;34m]\u001b[0m\u001b[0;34m=\u001b[0m\u001b[0;36m20\u001b[0m     \u001b[0;31m# element access and reassign a new value\u001b[0m\u001b[0;34m\u001b[0m\u001b[0;34m\u001b[0m\u001b[0m\n\u001b[0m\u001b[1;32m     11\u001b[0m \u001b[0mprint\u001b[0m\u001b[0;34m(\u001b[0m\u001b[0mt\u001b[0m\u001b[0;34m)\u001b[0m    \u001b[0;31m# on executing giving error, that means it is immutable\u001b[0m\u001b[0;34m\u001b[0m\u001b[0;34m\u001b[0m\u001b[0m\n\u001b[1;32m     12\u001b[0m \u001b[0;34m\u001b[0m\u001b[0m\n",
            "\u001b[0;31mTypeError\u001b[0m: 'tuple' object does not support item assignment"
          ]
        }
      ]
    },
    {
      "cell_type": "code",
      "source": [
        "# 6. Write a function to demonstrate the behavior of mutable and immutable arguments.\n",
        "\n",
        "my_list=[1,2,3,4]\n",
        "my_string=\"hello\"\n",
        "my_list[0]=8\n",
        "print(f\"my_list after mutation: {my_list}\")   #since list is mutable, it prints the output\n",
        "my_string[0]=\"H\"\n",
        "print(f\"my_string after mutation: {my_string}\") #since string is immutable, it gives error as no value assignment possible\n"
      ],
      "metadata": {
        "id": "svU1PgTImJC8",
        "colab": {
          "base_uri": "https://localhost:8080/",
          "height": 211
        },
        "outputId": "a8035a72-7655-41ad-a52c-9fd1fdaf1ac9"
      },
      "execution_count": null,
      "outputs": [
        {
          "output_type": "stream",
          "name": "stdout",
          "text": [
            "my_list after mutation: [8, 2, 3, 4]\n"
          ]
        },
        {
          "output_type": "error",
          "ename": "TypeError",
          "evalue": "'str' object does not support item assignment",
          "traceback": [
            "\u001b[0;31m---------------------------------------------------------------------------\u001b[0m",
            "\u001b[0;31mTypeError\u001b[0m                                 Traceback (most recent call last)",
            "\u001b[0;32m<ipython-input-11-3ad975a02973>\u001b[0m in \u001b[0;36m<cell line: 0>\u001b[0;34m()\u001b[0m\n\u001b[1;32m      5\u001b[0m \u001b[0mmy_list\u001b[0m\u001b[0;34m[\u001b[0m\u001b[0;36m0\u001b[0m\u001b[0;34m]\u001b[0m\u001b[0;34m=\u001b[0m\u001b[0;36m8\u001b[0m\u001b[0;34m\u001b[0m\u001b[0;34m\u001b[0m\u001b[0m\n\u001b[1;32m      6\u001b[0m \u001b[0mprint\u001b[0m\u001b[0;34m(\u001b[0m\u001b[0;34mf\"my_list after mutation: {my_list}\"\u001b[0m\u001b[0;34m)\u001b[0m   \u001b[0;31m#since list is mutable, it prints the output\u001b[0m\u001b[0;34m\u001b[0m\u001b[0;34m\u001b[0m\u001b[0m\n\u001b[0;32m----> 7\u001b[0;31m \u001b[0mmy_string\u001b[0m\u001b[0;34m[\u001b[0m\u001b[0;36m0\u001b[0m\u001b[0;34m]\u001b[0m\u001b[0;34m=\u001b[0m\u001b[0;34m\"H\"\u001b[0m\u001b[0;34m\u001b[0m\u001b[0;34m\u001b[0m\u001b[0m\n\u001b[0m\u001b[1;32m      8\u001b[0m \u001b[0mprint\u001b[0m\u001b[0;34m(\u001b[0m\u001b[0;34mf\"my_string after mutation: {my_string}\"\u001b[0m\u001b[0;34m)\u001b[0m \u001b[0;31m#since string is immutable, it gives error as no value assignment possible\u001b[0m\u001b[0;34m\u001b[0m\u001b[0;34m\u001b[0m\u001b[0m\n",
            "\u001b[0;31mTypeError\u001b[0m: 'str' object does not support item assignment"
          ]
        }
      ]
    },
    {
      "cell_type": "code",
      "source": [
        "# 7. Write a function to demonstrate the behavior of mutable and immutable arguments.\n",
        "my_list=[1,2,3,4]\n",
        "my_string=\"hello\"\n",
        "my_list[0]=8\n",
        "print(f\"my_list after mutation: {my_list}\")   #since list is mutable, it prints the output\n",
        "my_string[0]=\"H\"\n",
        "print(f\"my_string after mutation: {my_string}\") #since string is immutable, it gives error as no value assignment possible"
      ],
      "metadata": {
        "id": "XZrMc5ormO4_",
        "colab": {
          "base_uri": "https://localhost:8080/",
          "height": 211
        },
        "outputId": "24b5923c-7cfc-43db-abd6-99c185c48e33"
      },
      "execution_count": null,
      "outputs": [
        {
          "output_type": "stream",
          "name": "stdout",
          "text": [
            "my_list after mutation: [8, 2, 3, 4]\n"
          ]
        },
        {
          "output_type": "error",
          "ename": "TypeError",
          "evalue": "'str' object does not support item assignment",
          "traceback": [
            "\u001b[0;31m---------------------------------------------------------------------------\u001b[0m",
            "\u001b[0;31mTypeError\u001b[0m                                 Traceback (most recent call last)",
            "\u001b[0;32m<ipython-input-7-558af89cd4af>\u001b[0m in \u001b[0;36m<cell line: 0>\u001b[0;34m()\u001b[0m\n\u001b[1;32m      4\u001b[0m \u001b[0mmy_list\u001b[0m\u001b[0;34m[\u001b[0m\u001b[0;36m0\u001b[0m\u001b[0;34m]\u001b[0m\u001b[0;34m=\u001b[0m\u001b[0;36m8\u001b[0m\u001b[0;34m\u001b[0m\u001b[0;34m\u001b[0m\u001b[0m\n\u001b[1;32m      5\u001b[0m \u001b[0mprint\u001b[0m\u001b[0;34m(\u001b[0m\u001b[0;34mf\"my_list after mutation: {my_list}\"\u001b[0m\u001b[0;34m)\u001b[0m   \u001b[0;31m#since list is mutable, it prints the output\u001b[0m\u001b[0;34m\u001b[0m\u001b[0;34m\u001b[0m\u001b[0m\n\u001b[0;32m----> 6\u001b[0;31m \u001b[0mmy_string\u001b[0m\u001b[0;34m[\u001b[0m\u001b[0;36m0\u001b[0m\u001b[0;34m]\u001b[0m\u001b[0;34m=\u001b[0m\u001b[0;34m\"H\"\u001b[0m\u001b[0;34m\u001b[0m\u001b[0;34m\u001b[0m\u001b[0m\n\u001b[0m\u001b[1;32m      7\u001b[0m \u001b[0mprint\u001b[0m\u001b[0;34m(\u001b[0m\u001b[0;34mf\"my_string after mutation: {my_string}\"\u001b[0m\u001b[0;34m)\u001b[0m \u001b[0;31m#since string is immutable, it gives error as no value assignment possible\u001b[0m\u001b[0;34m\u001b[0m\u001b[0;34m\u001b[0m\u001b[0m\n",
            "\u001b[0;31mTypeError\u001b[0m: 'str' object does not support item assignment"
          ]
        }
      ]
    },
    {
      "cell_type": "code",
      "source": [
        "\n",
        "# 8. Write a program to demonstrate the use of logical operators.\n",
        "choose_operator = input(\"Enter the Operator (AND/OR): \")\n",
        "num1 = int(input(\"Enter first number (1 or 0): \"))\n",
        "num2 = int(input(\"Enter second number (1 or 0): \"))\n",
        "\n",
        "if choose_operator == \"AND\":\n",
        "    if num1 == 1 and num2 == 1:  # Both must be 1 for AND to be True\n",
        "        print(\"1\")\n",
        "    else:\n",
        "        print(\"0\")\n",
        "elif choose_operator == \"OR\":\n",
        "    if num1 == 1 or num2 == 1: # Either num1 or num2 must be 1 for OR to be True\n",
        "        print(\"1\")\n",
        "    else:\n",
        "        print(\"0\")\n",
        "else:\n",
        "    print(\"Invalid Operator\")"
      ],
      "metadata": {
        "id": "B_Yn7Mc_mTBt",
        "colab": {
          "base_uri": "https://localhost:8080/"
        },
        "outputId": "60e70a57-d123-4392-c92a-6e049ea708f4"
      },
      "execution_count": null,
      "outputs": [
        {
          "output_type": "stream",
          "name": "stdout",
          "text": [
            "Enter the Operator (AND/OR): AND\n",
            "Enter first number (1 or 0): 1\n",
            "Enter second number (1 or 0): 0\n",
            "0\n"
          ]
        }
      ]
    },
    {
      "cell_type": "code",
      "source": [
        "# 9. Write a Python program to convert user input from string to integer, float, and boolean types.\n",
        "num=input(\"Enter a number:\")\n",
        "boolean_value=False if num==\"0\" else True # since zero if entered as string will give True, so redefing the command for correct results\n",
        "print(\"as an interger, value is\",int(num))\n",
        "print(\"as a float, value is\",float(num))\n",
        "print(\"as a boolean, value is\",bool(boolean_value))"
      ],
      "metadata": {
        "id": "shOZQ7UQmV0J",
        "colab": {
          "base_uri": "https://localhost:8080/"
        },
        "outputId": "29f6196d-f7fb-430c-9a42-ecce4900ccc2"
      },
      "execution_count": null,
      "outputs": [
        {
          "output_type": "stream",
          "name": "stdout",
          "text": [
            "Enter a number:1\n",
            "as an interger, value is 1\n",
            "as a float, value is 1.0\n",
            "as a boolean, value is True\n"
          ]
        }
      ]
    },
    {
      "cell_type": "code",
      "source": [
        "# 10. Write code to demonstrate type casting with list elements.\n",
        "my_list=[\"1\",\"2\",\"2.3\"]\n",
        "print(\"original list:\",my_list)\n",
        "print(\"type of element in original list:\",type(my_list[0]))\n",
        "Typecast_list=[float(i) for i in my_list]\n",
        "print(\"typecasted list:\",Typecast_list)\n",
        "print(\"type of element in typecasted list:\",type(Typecast_list[0]))"
      ],
      "metadata": {
        "id": "Yq_KL-DzmYru",
        "colab": {
          "base_uri": "https://localhost:8080/"
        },
        "outputId": "c86a68c9-5b57-408a-8b4e-17cdb10d7785"
      },
      "execution_count": null,
      "outputs": [
        {
          "output_type": "stream",
          "name": "stdout",
          "text": [
            "original list: ['1', '2', '2.3']\n",
            "type of element in original list: <class 'str'>\n",
            "typecasted list: [1.0, 2.0, 2.3]\n",
            "type of element in typecasted list: <class 'float'>\n"
          ]
        }
      ]
    },
    {
      "cell_type": "code",
      "source": [
        "# 11. Write a program that checks if a number is positive, negative, or zero.\n",
        "num=int(input(\"Enter a number:\"))\n",
        "if num>0:\n",
        "  print(\"Number is positive\")\n",
        "elif num<0:\n",
        "  print(\"Number is negative\")\n",
        "else:\n",
        "  print(\"Number is zero\")"
      ],
      "metadata": {
        "id": "SpNaA5CumdlH",
        "colab": {
          "base_uri": "https://localhost:8080/"
        },
        "outputId": "4dc0d2b6-a775-4f2c-dcd0-3817bb35fa7a"
      },
      "execution_count": null,
      "outputs": [
        {
          "output_type": "stream",
          "name": "stdout",
          "text": [
            "Enter a number:-100\n",
            "Number is negative\n"
          ]
        }
      ]
    },
    {
      "cell_type": "code",
      "source": [
        "# 12. Write a for loop to print numbers from 1 to 10.\n",
        "num=range(1,11)\n",
        "for i in num:\n",
        "  print(i, end=\",\")"
      ],
      "metadata": {
        "id": "gwLnStaFmhRH",
        "colab": {
          "base_uri": "https://localhost:8080/"
        },
        "outputId": "b9af334b-2587-43fe-98aa-6cad757e5feb"
      },
      "execution_count": null,
      "outputs": [
        {
          "output_type": "stream",
          "name": "stdout",
          "text": [
            "1,2,3,4,5,6,7,8,9,10,"
          ]
        }
      ]
    },
    {
      "cell_type": "code",
      "source": [
        "# 13. Write a Python program to find the sum of all even numbers between 1 and 50.\n",
        "num=range(0,51,2)\n",
        "even_sum = sum(num)\n",
        "print(\"Answer is\", even_sum)"
      ],
      "metadata": {
        "id": "puBy2dRWmkh_",
        "colab": {
          "base_uri": "https://localhost:8080/"
        },
        "outputId": "7647d990-d538-45df-fc49-8974fde319b6"
      },
      "execution_count": null,
      "outputs": [
        {
          "output_type": "stream",
          "name": "stdout",
          "text": [
            "Answer is 650\n"
          ]
        }
      ]
    },
    {
      "cell_type": "code",
      "source": [
        "# 14. Write a program to reverse a string using a while loop.\n",
        "s=input(\"Enter a string:\")\n",
        "reverse_string=\"\" #empty string to store result\n",
        "i=len(s)-1  #indexing from the last of the string\n",
        "while i>=0: #do the iteration till i is greateror equal to zero\n",
        "  reverse_string+=s[i]  #add character at index i to result\n",
        "  i-=1 #move to previous character\n",
        "print(\"reversed string is:\",reverse_string) #print should not be inside while loop else will do reversion after every iteration, which is not required"
      ],
      "metadata": {
        "id": "aS45XFnimpJA",
        "colab": {
          "base_uri": "https://localhost:8080/"
        },
        "outputId": "ddb26218-40ed-463e-a980-93d168e903ab"
      },
      "execution_count": 19,
      "outputs": [
        {
          "output_type": "stream",
          "name": "stdout",
          "text": [
            "Enter a string:I am Learning\n",
            "reversed string is: gninraeL ma I\n"
          ]
        }
      ]
    },
    {
      "cell_type": "code",
      "source": [
        "# 15. Write a Python program to calculate the factorial of a number provided by the user using a while loop.\n",
        "user_input=int(input(\"Enter a number:\"))\n",
        "factorial=1 #creating variables\n",
        "count=1\n",
        "while count<=user_input:\n",
        "  factorial*=count #multiplication\n",
        "  count+=1  #increment count\n",
        "print(f\"Factorial of {user_input} is ,{factorial}\")"
      ],
      "metadata": {
        "id": "FKqOeGfymtwU",
        "colab": {
          "base_uri": "https://localhost:8080/"
        },
        "outputId": "e4cb32b7-bf16-4277-d632-f0c0347c8e88"
      },
      "execution_count": 20,
      "outputs": [
        {
          "output_type": "stream",
          "name": "stdout",
          "text": [
            "Enter a number:5\n",
            "Factorial of 5 is ,120\n"
          ]
        }
      ]
    },
    {
      "cell_type": "code",
      "source": [],
      "metadata": {
        "id": "ZbWFv0Vx1IOa"
      },
      "execution_count": null,
      "outputs": []
    }
  ]
}